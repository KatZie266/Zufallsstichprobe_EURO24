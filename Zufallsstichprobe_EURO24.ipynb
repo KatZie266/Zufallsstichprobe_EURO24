{
 "cells": [
  {
   "cell_type": "markdown",
   "id": "6982dca9",
   "metadata": {},
   "source": [
    "\n",
    "<font size=\"+2.5\">**Zufallsstichproben als Auswahlverfahren bei Sportgroßveranstaltungen**</font> \n",
    "<br><br>\n",
    "\n",
    "<font size=\"+1.2\">👩🏻‍💻  Schätzung des Mittelwerts der Grundgesamtheit und Bestimmung des Stichprobenumfangs.</font>  \n",
    "\n",
    " \n",
    "<br> "
   ]
  },
  {
   "cell_type": "markdown",
   "id": "6123999e",
   "metadata": {},
   "source": [
    "<div>\n",
    "    <img src=\"images/EURO24_allianzarena.png\" alt=\"Image description\" width=\"800px\" style=\"float: left; margin-right: 10px;\"/>\n",
    "</div>\n",
    "<br><br>\n",
    "\n",
    "<br>\n",
    "\n",
    "\n"
   ]
  },
  {
   "cell_type": "markdown",
   "id": "572241c5",
   "metadata": {},
   "source": [
    "<br><br>\n",
    "<font size=\"+1.8\">**⚽ Planspiel EURO 2024**</font> \n",
    "<br><br>\n",
    "<font size=\"+1.2\">Eine Analyse der Zufriedenheit von Stadionbesuchern des Halbfinalspiels der EURO 2024 in München.</font>"
   ]
  },
  {
   "cell_type": "code",
   "execution_count": 58,
   "id": "ec7af165",
   "metadata": {},
   "outputs": [
    {
     "name": "stdout",
     "output_type": "stream",
     "text": [
      "Current working directory: /Users/Kathi/Code/projects/sampling\n"
     ]
    }
   ],
   "source": [
    "# Prep basic packages\n",
    "import os\n",
    "import IPython\n",
    "import json\n",
    "import pandas as pd\n",
    "import numpy as np\n",
    "import random\n",
    "import string\n",
    "from scipy.stats import norm\n",
    "\n",
    "# Display current working directory\n",
    "print(\"Current working directory:\", os.getcwd())"
   ]
  },
  {
   "cell_type": "markdown",
   "id": "86662326",
   "metadata": {},
   "source": [
    "### Erzeugen synthetischer Daten "
   ]
  },
  {
   "cell_type": "markdown",
   "id": "6bfcbc7e",
   "metadata": {},
   "source": [
    "**Was tun wir?**\n",
    "\n",
    "Wir erzeugen ein Datenset von **20.000 befragten Besuchern der Allianz Arena** beim **Halbfinale** zwischen 🇫🇷 **Frankreich und 🇪🇸 Spanien**.\n",
    "\n",
    "Das Datenset enthält die folgenden **Variablen**:\n",
    "- Nummer: laufende Nummer [1, ...,20.000]  \n",
    "- ID: zufällig generierte Buchstaben/Zahlenkombination [str]\n",
    "- Nationalitaet [Spanien, Frankreich, Deutschland, England, Niederlande, Italien]\n",
    "- Herkunftsland [Spanien, Frankreich, Deutschland, England, Niederlande, Italien]\n",
    "- Alter [18, ..., 75]\n",
    "- Geschlecht [Maennlich, Weiblich, Divers]\n",
    "- Eikommen (in €) [10.000, ..., 150.000]\n",
    "\n",
    "- soziales Milieu (Ableitung aus Adresse) [Elite, Obere Mittelschicht, Kern-Mittelschicht, Untere Mittelschicht, Arbeiterklasse, Prekäre Schicht]\n",
    "- Sitz (bestehend aus Block [A, ..., F], Reihe [1, ...]\n",
    "\n",
    "**Annahme**:\n",
    "<br>20.000 Gästesitzplätze stehen in der Allianz Arena zur Verfügung, d.h. Datenset entspricht einer Vollerhebung. "
   ]
  },
  {
   "cell_type": "code",
   "execution_count": 38,
   "id": "db399f50",
   "metadata": {},
   "outputs": [
    {
     "name": "stdout",
     "output_type": "stream",
     "text": [
      "CSV file saved to /Users/Kathi/Code/projects/sampling/data/stadionbesucher_euro2024_final.csv\n",
      "   Nummer        ID Herkunftsland Nationalitaet  Alter Geschlecht  \\\n",
      "0       1  EW2RCXLW       Spanien       Spanien     39   Weiblich   \n",
      "1       2  IYIOEV5K       Italien       Italien     33  Maennlich   \n",
      "2       3  SOV1QUY5    Frankreich    Frankreich     41   Weiblich   \n",
      "3       4  I2L3FBDH       Spanien       Spanien     50  Maennlich   \n",
      "4       5  STCXEZXA       Italien       Italien     32  Maennlich   \n",
      "\n",
      "   Haushaltseinkommen       soziales Milieu     Sitz  \n",
      "0        55224.293715    Kern-Mittelschicht  1.A.1.1  \n",
      "1        54249.853888    Kern-Mittelschicht  1.A.1.2  \n",
      "2        35952.202313  Untere Mittelschicht  1.A.1.3  \n",
      "3        58693.763326    Kern-Mittelschicht  1.A.1.4  \n",
      "4        27648.759866        Arbeiterklasse  1.A.1.5  \n"
     ]
    }
   ],
   "source": [
    "import pandas as pd\n",
    "import numpy as np\n",
    "import random\n",
    "import string\n",
    "\n",
    "# Helper functions to generate random data\n",
    "def generate_id(length=8):\n",
    "    return ''.join(random.choices(string.ascii_uppercase + string.digits, k=length))\n",
    "\n",
    "def generate_age():\n",
    "    return random.randint(18, 75)\n",
    "\n",
    "def generate_income():\n",
    "    return round(random.uniform(10000, 150000), 2)\n",
    "\n",
    "def generate_gender():\n",
    "    return random.choice(['Maennlich', 'Weiblich', 'Divers'])\n",
    "\n",
    "# Define the distribution for countries and nationalities\n",
    "countries_nationalities = {\n",
    "    'Spanien': 0.4,\n",
    "    'Frankreich': 0.4,\n",
    "    'Deutschland': 0.05,\n",
    "    'Italien': 0.05,\n",
    "    'England': 0.05,\n",
    "    'Niederlande': 0.05\n",
    "}\n",
    "\n",
    "# Create the dataset\n",
    "num_records = 20000\n",
    "data = []\n",
    "\n",
    "for i in range(1, num_records + 1):\n",
    "    nummer = i\n",
    "    id = generate_id()\n",
    "    herkunftsland = np.random.choice(list(countries_nationalities.keys()), p=list(countries_nationalities.values()))\n",
    "    nationalität = np.random.choice(list(countries_nationalities.keys()), p=list(countries_nationalities.values()))\n",
    "    alter = generate_age()\n",
    "    geschlecht = generate_gender()\n",
    "    haushaltseinkommen = generate_income()\n",
    "    \n",
    "    # Ensure a few mismatches between Herkunftsland and Nationalität\n",
    "    if random.random() < 0.05:\n",
    "        nationalität = np.random.choice(list(countries_nationalities.keys()))\n",
    "    \n",
    "    data.append([nummer, id, herkunftsland, nationalität, alter, geschlecht, haushaltseinkommen])\n",
    "\n",
    "# Create the DataFrame\n",
    "df = pd.DataFrame(data, columns=['Nummer', 'ID', 'Herkunftsland', 'Nationalitaet', 'Alter', 'Geschlecht', 'Haushaltseinkommen'])\n",
    "\n",
    "# Adjust age and income to follow a normal distribution\n",
    "np.random.seed(42)  # For reproducibility\n",
    "\n",
    "# Normal distribution for age\n",
    "mean_age = 35\n",
    "std_age = 10\n",
    "ages = np.random.normal(mean_age, std_age, num_records).astype(int)\n",
    "ages = np.clip(ages, 18, 75)  # Ensuring age stays within realistic bounds\n",
    "\n",
    "# Normal distribution for income\n",
    "mean_income = 50000\n",
    "std_income = 15000\n",
    "incomes = np.random.normal(mean_income, std_income, num_records)\n",
    "incomes = np.clip(incomes, 10000, 150000)  # Ensuring income stays within realistic bounds\n",
    "\n",
    "# Gender distribution adjustment\n",
    "gender_choices = ['Maennlich', 'Weiblich', 'Divers']\n",
    "gender_probs = [0.70, 0.29, 0.01]\n",
    "genders = np.random.choice(gender_choices, num_records, p=gender_probs)\n",
    "\n",
    "# Update the DataFrame\n",
    "df['Alter'] = ages\n",
    "df['Haushaltseinkommen'] = incomes\n",
    "df['Geschlecht'] = genders\n",
    "\n",
    "# Definition der Funktion zur Zuordnung des sozialen Milieus\n",
    "def soziales_milieu(income):\n",
    "    if income > 80000:\n",
    "        return 'Elite'\n",
    "    elif 60000 < income <= 80000:\n",
    "        return 'Obere Mittelschicht'\n",
    "    elif 40000 < income <= 60000:\n",
    "        return 'Kern-Mittelschicht'\n",
    "    elif 30000 < income <= 40000:\n",
    "        return 'Untere Mittelschicht'\n",
    "    elif 20000 < income <= 30000:\n",
    "        return 'Arbeiterklasse'\n",
    "    else:\n",
    "        return 'Prekäres Milieu'\n",
    "\n",
    "# Anwendung der Funktion auf die Spalte 'Haushaltseinkommen' zur Erstellung der neuen Spalte 'soziales Milieu'\n",
    "df['soziales Milieu'] = df['Haushaltseinkommen'].apply(soziales_milieu)\n",
    "\n",
    "import pandas as pd\n",
    "import numpy as np\n",
    "import random\n",
    "import string\n",
    "\n",
    "# Neudefinition der Anzahl der Datensätze\n",
    "num_records = 20000\n",
    "\n",
    "# Aktuellen DataFrame anpassen (falls er noch nicht 20.000 Einträge hat)\n",
    "if len(df) < num_records:\n",
    "    additional_rows = num_records - len(df)\n",
    "    additional_data = df.sample(n=additional_rows, replace=True).reset_index(drop=True)\n",
    "    df = pd.concat([df, additional_data]).reset_index(drop=True)\n",
    "\n",
    "# Erstellen der \"Sitz\"-Spalte\n",
    "ränge = 4\n",
    "blöcke = ['A', 'B', 'C', 'D', 'E', 'F', 'G', 'H', 'I', 'J']\n",
    "reihen_pro_block = 20\n",
    "sitze_pro_reihe = 25\n",
    "\n",
    "sitze = []\n",
    "for rang in range(1, ränge + 1):\n",
    "    for block in blöcke:\n",
    "        for reihe in range(1, reihen_pro_block + 1):\n",
    "            for nummer in range(1, sitze_pro_reihe + 1):\n",
    "                sitze.append(f\"{rang}.{block}.{reihe}.{nummer}\")\n",
    "                if len(sitze) == num_records:\n",
    "                    break\n",
    "            if len(sitze) == num_records:\n",
    "                break\n",
    "        if len(sitze) == num_records:\n",
    "            break\n",
    "    if len(sitze) == num_records:\n",
    "        break\n",
    "\n",
    "# Überprüfen, ob alle Plätze vergeben sind\n",
    "assert len(sitze) == num_records, \"Die Anzahl der Sitzplätze stimmt nicht mit der Anzahl der Datensätze überein.\"\n",
    "\n",
    "# Zuweisen der Sitzplätze zum DataFrame\n",
    "df['Sitz'] = sitze\n",
    "\n",
    "# Adjusting Herkunftsland and Nationalität\n",
    "mismatch_prob = 0.05\n",
    "\n",
    "for i in range(num_records):\n",
    "    if np.random.rand() < mismatch_prob:\n",
    "        possible_nationalities = list(countries_nationalities.keys())\n",
    "        possible_nationalities.remove(df.loc[i, 'Herkunftsland'])\n",
    "        df.loc[i, 'Nationalitaet'] = np.random.choice(possible_nationalities)\n",
    "    else:\n",
    "        df.loc[i, 'Nationalitaet'] = df.loc[i, 'Herkunftsland']\n",
    "\n",
    "# Save the updated CSV to your specified folder\n",
    "file_path = \"/Users/Kathi/Code/projects/sampling/data/stadionbesucher_euro2024_final.csv\"\n",
    "df.to_csv(file_path, index=False)\n",
    "\n",
    "print(f\"CSV file saved to {file_path}\")\n",
    "\n",
    "# Ausgabe des angepassten DataFrames\n",
    "print(df.head())\n"
   ]
  },
  {
   "cell_type": "code",
   "execution_count": 75,
   "id": "bc5bd5ac",
   "metadata": {},
   "outputs": [
    {
     "data": {
      "image/png": "[encoded data removed]",
      "text/plain": [
       "<Figure size 1400x800 with 4 Axes>"
      ]
     },
     "metadata": {},
     "output_type": "display_data"
    }
   ],
   "source": [
    "import matplotlib.pyplot as plt\n",
    "\n",
    "# Define figure size\n",
    "plt.figure(figsize=(14, 8))\n",
    "\n",
    "# Age distribution\n",
    "plt.subplot(2, 2, 1)\n",
    "plt.hist(df['Alter'], bins=20, color='lightblue', edgecolor='black')\n",
    "plt.title('Altersverteilung')\n",
    "plt.xlabel('Alter')\n",
    "plt.ylabel('Anzahl der Personen')\n",
    "\n",
    "# Gender distribution\n",
    "plt.subplot(2, 2, 2)\n",
    "gender_counts = df['Geschlecht'].value_counts()\n",
    "plt.bar(gender_counts.index, gender_counts.values, color=['lightblue', 'lightpink', 'lightgreen'], edgecolor='black')\n",
    "plt.title('Geschlechterverteilung')\n",
    "plt.xlabel('Geschlecht')\n",
    "plt.ylabel('Anzahl der Personen')\n",
    "\n",
    "# Herkunftsland distribution\n",
    "plt.subplot(2, 2, 3)\n",
    "country_counts = df['Herkunftsland'].value_counts()\n",
    "plt.bar(country_counts.index, country_counts.values, color='lightyellow', edgecolor='black')\n",
    "plt.title('Verteilung nach Herkunftsland')\n",
    "plt.xlabel('Herkunftsland')\n",
    "plt.ylabel('Anzahl der Personen')\n",
    "\n",
    "# Household income distribution\n",
    "plt.subplot(2, 2, 4)\n",
    "plt.hist(df['Haushaltseinkommen'], bins=20, color='lightgreen', edgecolor='black')\n",
    "plt.title('Verteilung des Haushaltseinkommens')\n",
    "plt.xlabel('Haushaltseinkommen in €')\n",
    "plt.ylabel('Anzahl der Personen')\n",
    "\n",
    "plt.tight_layout()\n",
    "plt.show()\n",
    "\n"
   ]
  },
  {
   "cell_type": "code",
   "execution_count": 78,
   "id": "5fdff5c6",
   "metadata": {},
   "outputs": [
    {
     "data": {
      "image/png": "[encoded data removed]",
      "text/plain": [
       "<Figure size 1200x600 with 1 Axes>"
      ]
     },
     "metadata": {},
     "output_type": "display_data"
    }
   ],
   "source": [
    "# Erstellen eines Balkendiagramms zur Visualisierung der Verteilung der Variable \"soziales Milieu\"\n",
    "def visualisiere_verteilung_soziales_milieu(df, spalte='soziales Milieu'):\n",
    "    # Definierte Reihenfolge der sozialen Milieus\n",
    "    milieus_reihenfolge = ['Elite', 'Obere Mittelschicht', 'Kern-Mittelschicht', 'Untere Mittelschicht', 'Arbeiterklasse', 'Prekäres Milieu']\n",
    "    \n",
    "    # Berechnen der Verteilung in der angegebenen Reihenfolge\n",
    "    verteilung = df[spalte].value_counts().reindex(milieus_reihenfolge)\n",
    "    verteilung_relative = (verteilung / len(df)) * 100\n",
    "    \n",
    "    plt.figure(figsize=(12, 6))\n",
    "    verteilung.plot(kind='bar', color='lightblue', edgecolor='black')\n",
    "    plt.title('Verteilung der sozialen Milieus')\n",
    "    plt.xlabel('Soziales Milieu')\n",
    "    plt.ylabel('Anzahl')\n",
    "    plt.xticks(rotation=45)\n",
    "    plt.grid(axis='y')\n",
    "    \n",
    "    # Anzeige der absoluten und relativen Werte über den Balken\n",
    "    for i, (v_abs, v_rel) in enumerate(zip(verteilung, verteilung_relative)):\n",
    "        plt.text(i, v_abs + 0.5, f'{v_abs} ({v_rel:.2f}%)', ha='center', va='bottom')\n",
    "\n",
    "    plt.tight_layout()\n",
    "    plt.show()\n",
    "\n",
    "# Aufrufen der Funktion zur Visualisierung der Verteilung\n",
    "visualisiere_verteilung_soziales_milieu(df)\n"
   ]
  },
  {
   "cell_type": "markdown",
   "id": "e7c52319",
   "metadata": {},
   "source": [
    "<br>\n",
    "\n",
    "### Schätzung Mittelwert der Grundgesamtheit und Bestimmung Stichprobenumfang"
   ]
  },
  {
   "cell_type": "markdown",
   "id": "1b8c6f5d",
   "metadata": {},
   "source": [
    "<br>\n",
    "\n",
    "**Berechnung arithmetisches Mittel Haushalteinkommen der Stadionbesucher**"
   ]
  },
  {
   "cell_type": "markdown",
   "id": "dc85f31f",
   "metadata": {},
   "source": [
    "$$\n",
    "\\mu = \\frac{1}{N} \\sum_{i=1}^{N} x_i\n",
    "$$\n",
    "\n",
    "Dabei ist:\n",
    "- \\\\( \\mu \\\\)   das durchschnittliche Haushaltseinkommen\n",
    "- \\\\( N \\\\)  die Gesamtanzahl der Stadionbesucher (Grundgesamtheit)\n",
    "- \\\\( x_i \\\\)  das Haushaltseinkommen des i-ten Besuchers"
   ]
  },
  {
   "cell_type": "code",
   "execution_count": 33,
   "id": "30c75882",
   "metadata": {},
   "outputs": [
    {
     "name": "stdout",
     "output_type": "stream",
     "text": [
      "Das durchschnittliche Haushaltseinkommen (µ) der Grundgesamtheit N ist: 49867.20 €\n"
     ]
    }
   ],
   "source": [
    "# Berechnung des durchschnittlichen Haushaltseinkommens\n",
    "durchschnittliches_haushaltseinkommen = df['Haushaltseinkommen'].mean()\n",
    "\n",
    "# Ausgabe des Ergebnisses\n",
    "print(f\"Das durchschnittliche Haushaltseinkommen (µ) der Grundgesamtheit N ist: {durchschnittliches_haushaltseinkommen:.2f} €\")\n"
   ]
  },
  {
   "cell_type": "markdown",
   "id": "a9c8c0a2",
   "metadata": {},
   "source": [
    "<br>\n",
    "\n",
    "**Berechnung Varianz Haushaltseinkommen der Stadionbesucher**"
   ]
  },
  {
   "cell_type": "markdown",
   "id": "43cf4e5c",
   "metadata": {},
   "source": [
    "$$\n",
    "\\sigma^2 = \\frac{1}{N} \\sum_{i=1}^{N} (x_i - \\mu)^2\n",
    "$$\n",
    "\n",
    "Dabei ist:\n",
    "- \\\\( \\sigma^2 \\\\) die Varianz des Haushaltseinkommens\n",
    "- \\\\( \\mu \\\\)   das durchschnittliche Haushaltseinkommen\n",
    "- \\\\( N \\\\)  die Gesamtanzahl der Stadionbesucher (Grundgesamtheit)\n",
    "- \\\\( x_i \\\\)  das Haushaltseinkommen des i-ten Besuchers\n"
   ]
  },
  {
   "cell_type": "code",
   "execution_count": 31,
   "id": "38706cca",
   "metadata": {},
   "outputs": [
    {
     "name": "stdout",
     "output_type": "stream",
     "text": [
      "Die Varianz (σ²) des Haushaltseinkommens der Grundgesamtheit N ist: 222283539.15 €²\n"
     ]
    }
   ],
   "source": [
    "# Berechnung der Varianz des Haushaltseinkommens\n",
    "varianz_haushaltseinkommen = df['Haushaltseinkommen'].var(ddof=0)\n",
    "\n",
    "# Ausgabe des Ergebnisses\n",
    "print(f\"Die Varianz (σ²) des Haushaltseinkommens der Grundgesamtheit N ist: {varianz_haushaltseinkommen:.2f} €²\")\n"
   ]
  },
  {
   "cell_type": "markdown",
   "id": "1ce59332",
   "metadata": {},
   "source": [
    "<br>\n",
    "\n",
    "**Berechnung Varianz und Standardabweichung (Standardfehler) Haushaltseinkommen der Stichprobe**"
   ]
  },
  {
   "cell_type": "markdown",
   "id": "a30e3c24",
   "metadata": {},
   "source": [
    "Das Stichprobenmittel einer Stichprobe $\\bar{\\textit{x}}$ vom Umfang *n* stellt einen unverzerrten Schätzer für \\\\( \\mu \\\\) dar. Da sich je nach realisierter Stichprobe ein anderes Stichprobenmittel ergeben kann, lassen sich darüber hinaus Varianz und die Standardabweichung (Standardfehler) bestimmen."
   ]
  },
  {
   "cell_type": "markdown",
   "id": "3772f8af",
   "metadata": {},
   "source": [
    "Die **Varianz einer Stichprobe** wird berechnet mit:\n",
    "\n",
    "$$\n",
    "s^2 = \\frac{1}{n-1} \\sum_{i=1}^{n} (x_i - \\bar{x})^2\n",
    "$$\n",
    "\n",
    "Dabei ist:\n",
    "- \\\\( s^2 \\\\) die Varianz der Stichprobe\n",
    "- \\\\( n \\\\) der Umfang der Stichprobe\n",
    "- \\\\( x_i \\\\) der i-te Wert der Stichprobe\n",
    "- \\\\( \\bar{x} \\\\) das Stichprobenmittel\n",
    "\n",
    "\n",
    "Die **Standardabweichung einer Stichprobe** wird berechnet mit:\n",
    "\n",
    "$$\n",
    "s = \\sqrt{s^2} = \\sqrt{\\frac{1}{n-1} \\sum_{i=1}^{n} (x_i - \\bar{x})^2}\n",
    "$$\n",
    "\n",
    "Dabei ist:\n",
    "- \\\\( s \\\\) die Standardabweichung der Stichprobe\n",
    "- \\\\( s^2 \\\\) die Varianz der Stichprobe\n",
    "- \\\\( n \\\\) der Umfang der Stichprobe\n",
    "- \\\\( x_i \\\\) der i-te Wert der Stichprobe\n",
    "- \\\\( \\bar{x} \\\\) das Stichprobenmittel\n"
   ]
  },
  {
   "cell_type": "code",
   "execution_count": 57,
   "id": "b432e762",
   "metadata": {},
   "outputs": [
    {
     "name": "stdout",
     "output_type": "stream",
     "text": [
      "Die Varianz (s^2) des Haushaltseinkommens der Stichprobe ist: 206333426.85 €²\n",
      "Die Standardabweichung (s) des Haushaltseinkommens der Stichprobe ist: 14364.31 €\n"
     ]
    }
   ],
   "source": [
    "# Berechnung der Varianz und Standardabweichung für die Stichprobe\n",
    "def berechne_varianz_und_std(stichprobe, spalte):\n",
    "    varianz = stichprobe[spalte].var(ddof=1)\n",
    "    standardabweichung = stichprobe[spalte].std(ddof=1)\n",
    "    return varianz, standardabweichung\n",
    "\n",
    "# Beispiel: Ziehen einer 5%-Stichprobe\n",
    "stichprobe_5_prozent = einfache_zufallsstichprobe(df, 5)\n",
    "\n",
    "# Berechnung der Varianz und Standardabweichung für die Spalte 'Haushaltseinkommen'\n",
    "varianz, standardabweichung = berechne_varianz_und_std(stichprobe_5_prozent, 'Haushaltseinkommen')\n",
    "\n",
    "# Ausgabe der Ergebnisse\n",
    "print(f\"Die Varianz (s^2) des Haushaltseinkommens der Stichprobe ist: {varianz:.2f} €²\")\n",
    "print(f\"Die Standardabweichung (s) des Haushaltseinkommens der Stichprobe ist: {standardabweichung:.2f} €\")\n"
   ]
  },
  {
   "cell_type": "markdown",
   "id": "109c3c0e",
   "metadata": {},
   "source": [
    "<br>\n",
    "\n",
    "**Berechnung Konfidenzintervall der Stichprobe für das arithmetische Mittel des Haushaltseinkommens der Stadionbesucher**"
   ]
  },
  {
   "cell_type": "markdown",
   "id": "286b4377",
   "metadata": {},
   "source": [
    "Das **Konfidenzintervall** gibt jenen Bereich an, in dem der wahre Populationsparameter (hier arithmetisches Mittel des Haushaltseinkommens) mit einer bestimmten Wahrscheinlichkeit (Vertrauenswahrscheinlichkeit) liegt.\n",
    "\n",
    "Jedes Mal, wenn wir eine Stichprobe ziehen, kann der Mittelwert dieser Stichprobe leicht unterschiedlich sein. Das Konfidenzintervall berücksichtigt diese Variabilität und gibt uns eine Spanne, die die Unsicherheit unserer Schätzung widerspiegelt.\n",
    "Ein engeres Konfidenzintervall bedeutet, dass wir eine genauere Schätzung haben, während ein breiteres Intervall auf mehr Unsicherheit hinweist."
   ]
  },
  {
   "cell_type": "markdown",
   "id": "029bee55",
   "metadata": {},
   "source": [
    "Das Konfidenzintervall für den Parameter \\( \\mu \\) (das durchschnittliche Haushaltseinkommen) bei einer Irrtumswahrscheinlichkeit \\(\\alpha = 0.05\\) (Vertrauenswahrscheinlichkeit 95%) lautet:\n",
    "\n",
    "$$\n",
    "\\bar{x} \\pm z_{\\alpha/2} \\left( \\frac{s}{\\sqrt{n}} \\right)\n",
    "$$\n",
    "\n",
    "Dabei ist:\n",
    "- \\\\( \\bar{x} \\\\) das Stichprobenmittel\n",
    "- \\\\( z_{\\alpha/2} \\\\) der kritische Wert aus der Standardnormalverteilung für eine Vertrauenswahrscheinlichkeit von 95% (z-Wert = 1.96 für 95%)\n",
    "- \\\\( s \\\\) die Standardabweichung der Stichprobe\n",
    "- \\\\( n \\\\) die Stichprobengröße\n"
   ]
  },
  {
   "cell_type": "code",
   "execution_count": 63,
   "id": "28c2fdf9",
   "metadata": {},
   "outputs": [
    {
     "name": "stdout",
     "output_type": "stream",
     "text": [
      "Das 95%-Konfidenzintervall für das durchschnittliche Haushaltseinkommen beträgt: [48480.44, 50261.02] €\n"
     ]
    }
   ],
   "source": [
    "# Berechnung des Konfidenzintervalls für das Stichprobenmittel\n",
    "def berechne_konfidenzintervall(stichprobe, spalte, alpha=0.05):\n",
    "    n = len(stichprobe)\n",
    "    mittelwert = stichprobe[spalte].mean()\n",
    "    std_abw = stichprobe[spalte].std(ddof=1)\n",
    "    z_wert = norm.ppf(1 - alpha / 2)\n",
    "    margin_of_error = z_wert * (std_abw / np.sqrt(n))\n",
    "    \n",
    "    untere_grenze = mittelwert - margin_of_error\n",
    "    obere_grenze = mittelwert + margin_of_error\n",
    "    \n",
    "    return untere_grenze, obere_grenze\n",
    "\n",
    "# Annahme: `stichprobe_5_prozent` DataFrame ist bereits erstellt\n",
    "# Berechnung des Konfidenzintervalls für das Haushaltseinkommen\n",
    "untere_grenze, obere_grenze = berechne_konfidenzintervall(stichprobe_5_prozent, 'Haushaltseinkommen')\n",
    "\n",
    "# Ausgabe der Ergebnisse\n",
    "print(f\"Das 95%-Konfidenzintervall für das durchschnittliche Haushaltseinkommen beträgt: [{untere_grenze:.2f}, {obere_grenze:.2f}] €\")\n"
   ]
  },
  {
   "cell_type": "markdown",
   "id": "59008561",
   "metadata": {},
   "source": [
    "<br>\n",
    "\n",
    "**Berechnung notwendiger Stichprobenumfang**"
   ]
  },
  {
   "cell_type": "markdown",
   "id": "9f74f7b7",
   "metadata": {},
   "source": [
    "Der **notwendige Stichprobenumfang** \\( n \\) wird berechnet mit:\n",
    "\n",
    "$$\n",
    "n = \\left( \\frac{z_{\\alpha/2} \\cdot \\sigma}{E} \\right)^2\n",
    "$$\n",
    "\n",
    "Dabei ist:\n",
    "- \\\\( z_{\\alpha/2} \\\\) der kritische Wert aus der Standardnormalverteilung für eine Vertrauenswahrscheinlichkeit von 95% (z-Wert = 1.96 für 95%)\n",
    "- \\\\( \\sigma \\\\) die Standardabweichung der Grundgesamtheit\n",
    "- \\\\( E \\\\) die maximale Fehlerbreite (Breite des Konfidenzintervalls)\n",
    "- \\\\( n \\\\) der notwendige Stichprobenumfang\n"
   ]
  },
  {
   "cell_type": "code",
   "execution_count": 74,
   "id": "f5538b19",
   "metadata": {},
   "outputs": [
    {
     "name": "stdout",
     "output_type": "stream",
     "text": [
      "Der notwendige Stichprobenumfang für ein Konfidenzintervall von 1000 € beträgt: 3418\n",
      "Das entspricht einem Anteil von 17.09% der Grundgesamtheit.\n"
     ]
    }
   ],
   "source": [
    "# Gegebene Parameter\n",
    "alpha = 0.05\n",
    "z_wert = norm.ppf(1 - alpha / 2)\n",
    "breite_konfidenzintervall = 1000  # Breite des Konfidenzintervalls (E)\n",
    "standardabweichung = df['Haushaltseinkommen'].std(ddof=1)  # Standardabweichung der Grundgesamtheit\n",
    "grundgesamtheit = len(df)  # Größe der Grundgesamtheit\n",
    "\n",
    "# Berechnung des notwendigen Stichprobenumfangs\n",
    "n = (z_wert * standardabweichung / (breite_konfidenzintervall / 2))**2\n",
    "n = np.ceil(n)  # Aufrunden auf die nächste ganze Zahl\n",
    "\n",
    "# Berechnung des relativen Anteils an der Grundgesamtheit\n",
    "relativer_anteil = (n / grundgesamtheit) * 100\n",
    "\n",
    "# Ausgabe der Ergebnisse\n",
    "print(f\"Der notwendige Stichprobenumfang für ein Konfidenzintervall von {breite_konfidenzintervall} € beträgt: {n:.0f}\")\n",
    "print(f\"Das entspricht einem Anteil von {relativer_anteil:.2f}% der Grundgesamtheit.\")"
   ]
  },
  {
   "cell_type": "markdown",
   "id": "1d0ceef3",
   "metadata": {},
   "source": [
    "<br>\n",
    "\n",
    "### Planspiel: Ziehung Stichprobe und Vergleich Kosten & Stichenprobenfehler je Team"
   ]
  },
  {
   "cell_type": "code",
   "execution_count": 52,
   "id": "697086fd",
   "metadata": {},
   "outputs": [
    {
     "name": "stdout",
     "output_type": "stream",
     "text": [
      "       Nummer        ID Herkunftsland Nationalitaet  Alter Geschlecht  \\\n",
      "11456   11457  AV5XDB63    Frankreich    Frankreich     54  Maennlich   \n",
      "16528   16529  YIVDK683       England       England     38   Weiblich   \n",
      "3253     3254  OO3OJUEQ       Spanien       Spanien     45  Maennlich   \n",
      "18614   18615  EXY4EQMW       Spanien       Spanien     31  Maennlich   \n",
      "1544     1545  KKZZZGWQ    Frankreich   Niederlande     28  Maennlich   \n",
      "\n",
      "       Haushaltseinkommen       soziales Milieu      Sitz  \n",
      "11456        39273.056428  Untere Mittelschicht  3.C.19.7  \n",
      "16528        64387.604376   Obere Mittelschicht   4.D.2.4  \n",
      "3253         49657.794589    Kern-Mittelschicht  1.G.11.4  \n",
      "18614        28842.518390        Arbeiterklasse  4.H.5.15  \n",
      "1544         60473.983047   Obere Mittelschicht  1.D.2.20  \n",
      "CSV file saved to /Users/Kathi/Code/projects/sampling/data/stadionbesucher_euro2024_final.csv\n"
     ]
    }
   ],
   "source": [
    "# Ziehung einfacher Stichprobe aus einem Datenframe df mit veränderlichen Prozentsatz (Parameter)\n",
    "def einfache_zufallsstichprobe(df, prozent):\n",
    "    stichprobengröße = int(len(df) * (prozent / 100))\n",
    "    zufallsstichprobe = df.sample(n=stichprobengröße, random_state=1)\n",
    "    return zufallsstichprobe\n",
    "\n",
    "# Beispiel: Ziehen einer 5%-Stichprobe\n",
    "stichprobe_5_prozent = einfache_zufallsstichprobe(df, 5)\n",
    "\n",
    "# Ausgabe der Stichprobe\n",
    "print(stichprobe_5_prozent.head())\n",
    "\n",
    "#Speichern der Stichprobe in einer CSV-Datei\n",
    "stichprobe_5_prozent.to_csv(\"/Users/Kathi/Code/projects/sampling/data/stichprobe_5_prozent.csv\", index=False)\n",
    "print(f\"CSV file saved to {file_path}\")"
   ]
  },
  {
   "cell_type": "code",
   "execution_count": 79,
   "id": "b6d1b53f",
   "metadata": {},
   "outputs": [
    {
     "name": "stdout",
     "output_type": "stream",
     "text": [
      "Die Kosten für eine 5%-Stichprobe mit Verfahren 'A' betragen: 1200.00 €\n"
     ]
    }
   ],
   "source": [
    "# Berechnet die Kosten für die Zufallsstichprobe, basierend auf dem gewählten Verfahren.\n",
    "def berechne_kosten(df, prozent, verfahren):\n",
    "    # Kosten pro Verfahren\n",
    "    kosten_pro_verfahren = {\n",
    "        'A': 1.20,\n",
    "        'B': 0.70,\n",
    "        'C': 1.80,\n",
    "        'D': 2.20\n",
    "    }\n",
    "    \n",
    "    # Überprüfen, ob das Verfahren gültig ist\n",
    "    if verfahren not in kosten_pro_verfahren:\n",
    "        raise ValueError(\"Ungültiges Verfahren. Wählen Sie 'A', 'B', 'C' oder 'D'.\")\n",
    "    \n",
    "    # Größe der Stichprobe berechnen\n",
    "    stichprobe = einfache_zufallsstichprobe(df, prozent)\n",
    "    stichprobengröße = len(stichprobe)\n",
    "    \n",
    "    # Kosten berechnen\n",
    "    kosten = stichprobengröße * kosten_pro_verfahren[verfahren]\n",
    "    \n",
    "    return kosten\n",
    "\n",
    "# Beispiel: Berechnung der Kosten für eine 5%-Stichprobe mit Verfahren 'A'\n",
    "prozent = 5\n",
    "verfahren = 'A'\n",
    "kosten = berechne_kosten(df, prozent, verfahren)\n",
    "\n",
    "# Ausgabe der Kosten\n",
    "print(f\"Die Kosten für eine {prozent}%-Stichprobe mit Verfahren '{verfahren}' betragen: {kosten:.2f} €\")\n"
   ]
  },
  {
   "cell_type": "code",
   "execution_count": 70,
   "id": "3407a9ff",
   "metadata": {},
   "outputs": [
    {
     "data": {
      "text/html": [
       "<style type=\"text/css\">\n",
       "#T_b5fc0_row5_col0, #T_b5fc0_row5_col1, #T_b5fc0_row5_col2, #T_b5fc0_row5_col3, #T_b5fc0_row5_col4, #T_b5fc0_row5_col5, #T_b5fc0_row6_col0, #T_b5fc0_row6_col1, #T_b5fc0_row6_col2, #T_b5fc0_row6_col3, #T_b5fc0_row6_col4, #T_b5fc0_row6_col5, #T_b5fc0_row7_col0, #T_b5fc0_row7_col1, #T_b5fc0_row7_col2, #T_b5fc0_row7_col3, #T_b5fc0_row7_col4, #T_b5fc0_row7_col5 {\n",
       "  background-color: yellow;\n",
       "}\n",
       "</style>\n",
       "<table id=\"T_b5fc0\">\n",
       "  <thead>\n",
       "    <tr>\n",
       "      <th class=\"blank level0\" >&nbsp;</th>\n",
       "      <th id=\"T_b5fc0_level0_col0\" class=\"col_heading level0 col0\" >Option</th>\n",
       "      <th id=\"T_b5fc0_level0_col1\" class=\"col_heading level0 col1\" >Verfahren</th>\n",
       "      <th id=\"T_b5fc0_level0_col2\" class=\"col_heading level0 col2\" >Stichprobengröße</th>\n",
       "      <th id=\"T_b5fc0_level0_col3\" class=\"col_heading level0 col3\" >Kosten</th>\n",
       "      <th id=\"T_b5fc0_level0_col4\" class=\"col_heading level0 col4\" >Konfidenzintervall</th>\n",
       "      <th id=\"T_b5fc0_level0_col5\" class=\"col_heading level0 col5\" >Breite Konfidenzintervall</th>\n",
       "    </tr>\n",
       "  </thead>\n",
       "  <tbody>\n",
       "    <tr>\n",
       "      <th id=\"T_b5fc0_level0_row0\" class=\"row_heading level0 row0\" >0</th>\n",
       "      <td id=\"T_b5fc0_row0_col0\" class=\"data row0 col0\" >1</td>\n",
       "      <td id=\"T_b5fc0_row0_col1\" class=\"data row0 col1\" >A</td>\n",
       "      <td id=\"T_b5fc0_row0_col2\" class=\"data row0 col2\" >5</td>\n",
       "      <td id=\"T_b5fc0_row0_col3\" class=\"data row0 col3\" >700.000000</td>\n",
       "      <td id=\"T_b5fc0_row0_col4\" class=\"data row0 col4\" >[48480.44, 50261.02]</td>\n",
       "      <td id=\"T_b5fc0_row0_col5\" class=\"data row0 col5\" >1780.585704</td>\n",
       "    </tr>\n",
       "    <tr>\n",
       "      <th id=\"T_b5fc0_level0_row1\" class=\"row_heading level0 row1\" >1</th>\n",
       "      <td id=\"T_b5fc0_row1_col0\" class=\"data row1 col0\" >2</td>\n",
       "      <td id=\"T_b5fc0_row1_col1\" class=\"data row1 col1\" >B</td>\n",
       "      <td id=\"T_b5fc0_row1_col2\" class=\"data row1 col2\" >10</td>\n",
       "      <td id=\"T_b5fc0_row1_col3\" class=\"data row1 col3\" >2400.000000</td>\n",
       "      <td id=\"T_b5fc0_row1_col4\" class=\"data row1 col4\" >[48983.68, 50263.24]</td>\n",
       "      <td id=\"T_b5fc0_row1_col5\" class=\"data row1 col5\" >1279.558825</td>\n",
       "    </tr>\n",
       "    <tr>\n",
       "      <th id=\"T_b5fc0_level0_row2\" class=\"row_heading level0 row2\" >2</th>\n",
       "      <td id=\"T_b5fc0_row2_col0\" class=\"data row2 col0\" >3</td>\n",
       "      <td id=\"T_b5fc0_row2_col1\" class=\"data row2 col1\" >C</td>\n",
       "      <td id=\"T_b5fc0_row2_col2\" class=\"data row2 col2\" >15</td>\n",
       "      <td id=\"T_b5fc0_row2_col3\" class=\"data row2 col3\" >5400.000000</td>\n",
       "      <td id=\"T_b5fc0_row2_col4\" class=\"data row2 col4\" >[49276.61, 50322.12]</td>\n",
       "      <td id=\"T_b5fc0_row2_col5\" class=\"data row2 col5\" >1045.514278</td>\n",
       "    </tr>\n",
       "    <tr>\n",
       "      <th id=\"T_b5fc0_level0_row3\" class=\"row_heading level0 row3\" >3</th>\n",
       "      <td id=\"T_b5fc0_row3_col0\" class=\"data row3 col0\" >4</td>\n",
       "      <td id=\"T_b5fc0_row3_col1\" class=\"data row3 col1\" >D</td>\n",
       "      <td id=\"T_b5fc0_row3_col2\" class=\"data row3 col2\" >20</td>\n",
       "      <td id=\"T_b5fc0_row3_col3\" class=\"data row3 col3\" >8800.000000</td>\n",
       "      <td id=\"T_b5fc0_row3_col4\" class=\"data row3 col4\" >[49511.51, 50424.04]</td>\n",
       "      <td id=\"T_b5fc0_row3_col5\" class=\"data row3 col5\" >912.525591</td>\n",
       "    </tr>\n",
       "    <tr>\n",
       "      <th id=\"T_b5fc0_level0_row4\" class=\"row_heading level0 row4\" >4</th>\n",
       "      <td id=\"T_b5fc0_row4_col0\" class=\"data row4 col0\" >5</td>\n",
       "      <td id=\"T_b5fc0_row4_col1\" class=\"data row4 col1\" >A</td>\n",
       "      <td id=\"T_b5fc0_row4_col2\" class=\"data row4 col2\" >25</td>\n",
       "      <td id=\"T_b5fc0_row4_col3\" class=\"data row4 col3\" >3500.000000</td>\n",
       "      <td id=\"T_b5fc0_row4_col4\" class=\"data row4 col4\" >[49567.58, 50390.57]</td>\n",
       "      <td id=\"T_b5fc0_row4_col5\" class=\"data row4 col5\" >822.989027</td>\n",
       "    </tr>\n",
       "    <tr>\n",
       "      <th id=\"T_b5fc0_level0_row5\" class=\"row_heading level0 row5\" >5</th>\n",
       "      <td id=\"T_b5fc0_row5_col0\" class=\"data row5 col0\" >6</td>\n",
       "      <td id=\"T_b5fc0_row5_col1\" class=\"data row5 col1\" >B</td>\n",
       "      <td id=\"T_b5fc0_row5_col2\" class=\"data row5 col2\" >30</td>\n",
       "      <td id=\"T_b5fc0_row5_col3\" class=\"data row5 col3\" >7200.000000</td>\n",
       "      <td id=\"T_b5fc0_row5_col4\" class=\"data row5 col4\" >[49586.24, 50345.60]</td>\n",
       "      <td id=\"T_b5fc0_row5_col5\" class=\"data row5 col5\" >759.358990</td>\n",
       "    </tr>\n",
       "    <tr>\n",
       "      <th id=\"T_b5fc0_level0_row6\" class=\"row_heading level0 row6\" >6</th>\n",
       "      <td id=\"T_b5fc0_row6_col0\" class=\"data row6 col0\" >7</td>\n",
       "      <td id=\"T_b5fc0_row6_col1\" class=\"data row6 col1\" >C</td>\n",
       "      <td id=\"T_b5fc0_row6_col2\" class=\"data row6 col2\" >35</td>\n",
       "      <td id=\"T_b5fc0_row6_col3\" class=\"data row6 col3\" >12600.000000</td>\n",
       "      <td id=\"T_b5fc0_row6_col4\" class=\"data row6 col4\" >[49569.34, 50269.68]</td>\n",
       "      <td id=\"T_b5fc0_row6_col5\" class=\"data row6 col5\" >700.338753</td>\n",
       "    </tr>\n",
       "    <tr>\n",
       "      <th id=\"T_b5fc0_level0_row7\" class=\"row_heading level0 row7\" >7</th>\n",
       "      <td id=\"T_b5fc0_row7_col0\" class=\"data row7 col0\" >8</td>\n",
       "      <td id=\"T_b5fc0_row7_col1\" class=\"data row7 col1\" >D</td>\n",
       "      <td id=\"T_b5fc0_row7_col2\" class=\"data row7 col2\" >40</td>\n",
       "      <td id=\"T_b5fc0_row7_col3\" class=\"data row7 col3\" >17600.000000</td>\n",
       "      <td id=\"T_b5fc0_row7_col4\" class=\"data row7 col4\" >[49566.48, 50218.75]</td>\n",
       "      <td id=\"T_b5fc0_row7_col5\" class=\"data row7 col5\" >652.268876</td>\n",
       "    </tr>\n",
       "  </tbody>\n",
       "</table>\n"
      ],
      "text/plain": [
       "<pandas.io.formats.style.Styler at 0x7f91eaa11a20>"
      ]
     },
     "execution_count": 70,
     "metadata": {},
     "output_type": "execute_result"
    }
   ],
   "source": [
    "# Funktion zur einfachen Zufallsstichprobe\n",
    "def einfache_zufallsstichprobe(df, prozent):\n",
    "    stichprobengröße = int(len(df) * (prozent / 100))\n",
    "    zufallsstichprobe = df.sample(n=stichprobengröße, random_state=1)\n",
    "    return zufallsstichprobe\n",
    "\n",
    "# Berechnung des Konfidenzintervalls für das Stichprobenmittel\n",
    "def berechne_konfidenzintervall(stichprobe, spalte, alpha=0.05):\n",
    "    n = len(stichprobe)\n",
    "    mittelwert = stichprobe[spalte].mean()\n",
    "    std_abw = stichprobe[spalte].std(ddof=1)\n",
    "    z_wert = norm.ppf(1 - alpha / 2)\n",
    "    margin_of_error = z_wert * (std_abw / np.sqrt(n))\n",
    "    \n",
    "    untere_grenze = mittelwert - margin_of_error\n",
    "    obere_grenze = mittelwert + margin_of_error\n",
    "    \n",
    "    return untere_grenze, obere_grenze\n",
    "\n",
    "# Beispiel: Berechnung der Kosten und des Konfidenzintervalls für 8 verschiedene Optionen\n",
    "optionen = [\n",
    "    {'verfahren': 'A', 'prozent': 5},\n",
    "    {'verfahren': 'B', 'prozent': 10},\n",
    "    {'verfahren': 'C', 'prozent': 15},\n",
    "    {'verfahren': 'D', 'prozent': 20},\n",
    "    {'verfahren': 'A', 'prozent': 25},\n",
    "    {'verfahren': 'B', 'prozent': 30},\n",
    "    {'verfahren': 'C', 'prozent': 35},\n",
    "    {'verfahren': 'D', 'prozent': 40}\n",
    "]\n",
    "\n",
    "# Erstellen einer Liste zur Speicherung der Ergebnisse\n",
    "ergebnisse = []\n",
    "\n",
    "# Berechnung der Kosten und des Konfidenzintervalls für jede Option\n",
    "for i, option in enumerate(optionen):\n",
    "    stichprobe = einfache_zufallsstichprobe(df, option['prozent'])\n",
    "    kosten = berechne_kosten(df, option['prozent'], option['verfahren'])\n",
    "    untere_grenze, obere_grenze = berechne_konfidenzintervall(stichprobe, 'Haushaltseinkommen')\n",
    "    konfid_intervall_breite = obere_grenze - untere_grenze\n",
    "    \n",
    "    ergebnisse.append({\n",
    "        'Option': i + 1,\n",
    "        'Verfahren': option['verfahren'],\n",
    "        'Stichprobengröße': option['prozent'],\n",
    "        'Kosten': kosten,\n",
    "        'Konfidenzintervall': f\"[{untere_grenze:.2f}, {obere_grenze:.2f}]\",\n",
    "        'Breite Konfidenzintervall': konfid_intervall_breite\n",
    "    })\n",
    "\n",
    "# Erstellung eines DataFrames aus den Ergebnissen\n",
    "df_ergebnisse = pd.DataFrame(ergebnisse)\n",
    "\n",
    "# Hervorhebung der drei Optionen mit dem engsten Konfidenzintervall\n",
    "df_ergebnisse['Highlight'] = df_ergebnisse['Breite Konfidenzintervall'].rank(method='min').apply(lambda x: 'background-color: yellow' if x <= 3 else '')\n",
    "\n",
    "# Entfernen der Highlight-Spalte für die Ausgabe\n",
    "highlight = df_ergebnisse.pop('Highlight')\n",
    "\n",
    "# Funktion zur Anwendung der Hervorhebung\n",
    "def highlight_rows(row):\n",
    "    return [highlight[row.name]] * len(row)\n",
    "\n",
    "# Anzeige des DataFrames mit Hervorhebung\n",
    "styled_df = df_ergebnisse.style.apply(highlight_rows, axis=1)\n",
    "\n",
    "styled_df\n"
   ]
  }
 ],
 "metadata": {
  "kernelspec": {
   "display_name": "Python [conda env:bot] *",
   "language": "python",
   "name": "conda-env-bot-py"
  },
  "language_info": {
   "codemirror_mode": {
    "name": "ipython",
    "version": 3
   },
   "file_extension": ".py",
   "mimetype": "text/x-python",
   "name": "python",
   "nbconvert_exporter": "python",
   "pygments_lexer": "ipython3",
   "version": "3.10.14"
  },
  "toc": {
   "base_numbering": 1,
   "nav_menu": {},
   "number_sections": true,
   "sideBar": true,
   "skip_h1_title": false,
   "title_cell": "Table of Contents",
   "title_sidebar": "Contents",
   "toc_cell": false,
   "toc_position": {
    "height": "calc(100% - 180px)",
    "left": "10px",
    "top": "150px",
    "width": "187px"
   },
   "toc_section_display": true,
   "toc_window_display": true
  }
 },
 "nbformat": 4,
 "nbformat_minor": 5
}
